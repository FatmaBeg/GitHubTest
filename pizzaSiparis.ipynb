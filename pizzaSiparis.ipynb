{
  "nbformat": 4,
  "nbformat_minor": 0,
  "metadata": {
    "colab": {
      "provenance": [],
      "authorship_tag": "ABX9TyMLo1asHMdPMOyyWA4mxTUH",
      "include_colab_link": true
    },
    "kernelspec": {
      "name": "python3",
      "display_name": "Python 3"
    },
    "language_info": {
      "name": "python"
    }
  },
  "cells": [
    {
      "cell_type": "markdown",
      "metadata": {
        "id": "view-in-github",
        "colab_type": "text"
      },
      "source": [
        "<a href=\"https://colab.research.google.com/github/FatmaBeg/GitHubTest/blob/main/pizzaSiparis.ipynb\" target=\"_parent\"><img src=\"https://colab.research.google.com/assets/colab-badge.svg\" alt=\"Open In Colab\"/></a>"
      ]
    },
    {
      "cell_type": "code",
      "execution_count": 44,
      "metadata": {
        "id": "lrnPXu2ocU2u"
      },
      "outputs": [],
      "source": [
        "import csv\n",
        "import datetime"
      ]
    },
    {
      "cell_type": "code",
      "source": [
        "class Pizza:\n",
        "    def __init__(self):\n",
        "        self._description = \"Pizza\"\n",
        "        self._cost = 0\n",
        "\n",
        "    def get_description(self):\n",
        "        return self._description\n",
        "\n",
        "    def get_cost(self):\n",
        "        return self._cost\n"
      ],
      "metadata": {
        "id": "jONvG9cieLQl"
      },
      "execution_count": 45,
      "outputs": []
    },
    {
      "cell_type": "code",
      "source": [
        "class Classic(Pizza):\n",
        "    def __init__(self):\n",
        "        super().__init__()\n",
        "        self._description = \"Classic Pizza\"\n",
        "        self._cost = 80\n",
        "  "
      ],
      "metadata": {
        "id": "MALDIQyd1kee"
      },
      "execution_count": 46,
      "outputs": []
    },
    {
      "cell_type": "code",
      "source": [
        "class Margherita(Pizza):\n",
        "    def __init__(self):\n",
        "        super().__init__()\n",
        "        self._description = \"Margherita Pizza\"\n",
        "        self._cost = 85"
      ],
      "metadata": {
        "id": "Yiv5G1LEW2m_"
      },
      "execution_count": 3,
      "outputs": []
    },
    {
      "cell_type": "code",
      "source": [
        "class TurkPizza(Pizza):\n",
        "    def __init__(self):\n",
        "        super().__init__()\n",
        "        self._description = \"Turk Pizza\"\n",
        "        self._cost = 98"
      ],
      "metadata": {
        "id": "W8BCuMS1XCgy"
      },
      "execution_count": 4,
      "outputs": []
    },
    {
      "cell_type": "code",
      "source": [
        "class DominosPizza(Pizza):\n",
        "    def __init__(self):\n",
        "        super().__init__()\n",
        "        self._description = \"Dominos Pizza\"\n",
        "        self._cost = 79"
      ],
      "metadata": {
        "id": "9-6_9FcuXKfP"
      },
      "execution_count": 5,
      "outputs": []
    },
    {
      "cell_type": "code",
      "source": [
        "class Createpizza(Pizza):\n",
        "    def __init__(self):\n",
        "        super().__init__()\n",
        "        self._description = \"Create Pizza\"\n",
        "        self._cost = 105"
      ],
      "metadata": {
        "id": "a-Y6wU0wXewk"
      },
      "execution_count": null,
      "outputs": []
    },
    {
      "cell_type": "code",
      "source": [
        "class Decorator(Pizza):\n",
        "    def __init__(self, component):\n",
        "        super().__init__()\n",
        "        self.component = component\n",
        "\n",
        "    def get_description(self):\n",
        "        return self.component.get_description() + \" + \" + self._description\n",
        "\n",
        "    def get_cost(self):\n",
        "        return self.component.get_cost() + ' ' + self._cost\n"
      ],
      "metadata": {
        "id": "rzgHPT5qX2jE"
      },
      "execution_count": 6,
      "outputs": []
    },
    {
      "cell_type": "code",
      "source": [
        "class Olives(Decorator):\n",
        "    def __init__(self, component):\n",
        "        super().__init__(component)\n",
        "        self._description = \"Olive\"\n",
        "        self._cost = 10"
      ],
      "metadata": {
        "id": "EglOavEkXSeQ"
      },
      "execution_count": 7,
      "outputs": []
    },
    {
      "cell_type": "code",
      "source": [
        "class Mushrooms(Decorator):\n",
        "    def __init__(self, component):\n",
        "        super().__init__(component)\n",
        "        self._description = \"Mushroom\"\n",
        "        self._cost = 12"
      ],
      "metadata": {
        "id": "1DrpI0xsYdi5"
      },
      "execution_count": 8,
      "outputs": []
    },
    {
      "cell_type": "code",
      "source": [
        "class GoatCheese(Decorator):\n",
        "    def __init__(self, component):\n",
        "        super().__init__(component)\n",
        "        self._description = \"Goat Cheese\"\n",
        "        self._cost = 8\n"
      ],
      "metadata": {
        "id": "Nx5yofvjZOfz"
      },
      "execution_count": 9,
      "outputs": []
    },
    {
      "cell_type": "code",
      "source": [
        "class Meat(Decorator):\n",
        "    def __init__(self, component):\n",
        "        super().__init__(component)\n",
        "        self._description = \"Meat\"\n",
        "        self._cost = 17"
      ],
      "metadata": {
        "id": "MFQMtPjSZOnz"
      },
      "execution_count": 10,
      "outputs": []
    },
    {
      "cell_type": "code",
      "source": [
        "class Onions(Decorator):\n",
        "    def __init__(self, component):\n",
        "        super().__init__(component)\n",
        "        self._description = \"Onion\"\n",
        "        self._cost = 9"
      ],
      "metadata": {
        "id": "RoFT3UaVZOqO"
      },
      "execution_count": 11,
      "outputs": []
    },
    {
      "cell_type": "code",
      "source": [
        "class Corn(Decorator):\n",
        "    def __init__(self, component):\n",
        "        super().__init__(component)\n",
        "        self._description = \"Corn\"\n",
        "        self._cost = 11\n",
        "        "
      ],
      "metadata": {
        "id": "xfi1ftT2ZOss"
      },
      "execution_count": 12,
      "outputs": []
    },
    {
      "cell_type": "code",
      "source": [
        "def numbers_to_strings(argument):\n",
        "    switcher = {\n",
        "        1: \"Classic\",\n",
        "        2: \"Margherita\",\n",
        "        3: \"TurkPizza\",\n",
        "        4: \"PlainPizza\"\n",
        "    }\n",
        " \n",
        "  \n",
        "    return switcher.get(argument, \"nothing\")"
      ],
      "metadata": {
        "id": "urkTUg53bIcy"
      },
      "execution_count": 28,
      "outputs": []
    },
    {
      "cell_type": "code",
      "source": [
        "a=input(\"Please Choose a Pizza Base:(1-4)\")"
      ],
      "metadata": {
        "colab": {
          "base_uri": "https://localhost:8080/"
        },
        "id": "15qWY_q9j603",
        "outputId": "2121a0b2-9025-41d2-8589-4af2b2a47271"
      },
      "execution_count": 35,
      "outputs": [
        {
          "name": "stdout",
          "output_type": "stream",
          "text": [
            "Please Choose a Pizza Base:(1-4)2\n"
          ]
        }
      ]
    },
    {
      "cell_type": "code",
      "source": [
        "b=int(a)\n",
        "print(numbers_to_strings(b))"
      ],
      "metadata": {
        "colab": {
          "base_uri": "https://localhost:8080/"
        },
        "id": "6QxurxINbIf3",
        "outputId": "f8719023-bc12-407b-8001-b5807fa93914"
      },
      "execution_count": 36,
      "outputs": [
        {
          "output_type": "stream",
          "name": "stdout",
          "text": [
            "Margherita\n"
          ]
        }
      ]
    },
    {
      "cell_type": "code",
      "source": [
        "def numbers_to_strings2(argument):\n",
        "    switcher = {\n",
        "        11: \"Olives\",\n",
        "        12: \"Mushrooms\",\n",
        "        13: \"GoatCheese\",\n",
        "        14: \"Meat\",\n",
        "        15: \"Onions\",\n",
        "        16: \"Corn\"\n",
        "    }\n",
        " \n",
        "  \n",
        "    return switcher.get(argument, \"nothing\")"
      ],
      "metadata": {
        "id": "d8dlrup6bIig"
      },
      "execution_count": 37,
      "outputs": []
    },
    {
      "cell_type": "code",
      "source": [
        "a1=input(\" and sauce of your choice(11-16)\")"
      ],
      "metadata": {
        "colab": {
          "base_uri": "https://localhost:8080/"
        },
        "id": "zjp6KU5nbIlu",
        "outputId": "dae10caf-929a-41fe-f193-56df693db0cb"
      },
      "execution_count": 38,
      "outputs": [
        {
          "name": "stdout",
          "output_type": "stream",
          "text": [
            " and sauce of your choice(11-16)15\n"
          ]
        }
      ]
    },
    {
      "cell_type": "code",
      "source": [
        "b1=int(a1)\n",
        "print(numbers_to_strings2(b1))"
      ],
      "metadata": {
        "colab": {
          "base_uri": "https://localhost:8080/"
        },
        "id": "I_7kBHK4bIn1",
        "outputId": "14a4c78f-b6c8-4a4f-ccf4-5d2d88e6b503"
      },
      "execution_count": 39,
      "outputs": [
        {
          "output_type": "stream",
          "name": "stdout",
          "text": [
            "Onions\n"
          ]
        }
      ]
    },
    {
      "cell_type": "code",
      "source": [
        "accept=input(\"to continue the order--> y or n\")"
      ],
      "metadata": {
        "colab": {
          "base_uri": "https://localhost:8080/"
        },
        "id": "HBy3fViwnA9h",
        "outputId": "34db97c5-cd41-4e0f-e932-1ad6d882cf53"
      },
      "execution_count": 41,
      "outputs": [
        {
          "name": "stdout",
          "output_type": "stream",
          "text": [
            "to continue the order--> y or ny\n"
          ]
        }
      ]
    },
    {
      "cell_type": "code",
      "source": [
        "if accept == \"y\":\n",
        "        name = input(\"name: \")\n",
        "        ID = input(\"ID number: \")\n",
        "        cc_num = input(\"credit card number: \")\n",
        "        cc_passw = input(\"credit card password: \")\n",
        "      \n"
      ],
      "metadata": {
        "colab": {
          "base_uri": "https://localhost:8080/"
        },
        "id": "Uomg4fkEm0Bt",
        "outputId": "1515addc-aeae-459f-9fda-80e5f75c9af4"
      },
      "execution_count": 42,
      "outputs": [
        {
          "name": "stdout",
          "output_type": "stream",
          "text": [
            "name: fatma\n",
            "ID number: 25458956789\n",
            "credit card number: 154255187\n",
            "credit card password: 15425\n"
          ]
        }
      ]
    },
    {
      "cell_type": "code",
      "source": [
        "with open('Orders_Database.csv', mode='a') as pizzaorder_file:\n",
        "            writer = csv.writer(pizzaorder_file)\n",
        "            writer.writerow([datetime.datetime.now(), name, ID, cc_num, cc_passw])\n"
      ],
      "metadata": {
        "id": "EOhkrV0HmxY9"
      },
      "execution_count": 50,
      "outputs": []
    }
  ]
}